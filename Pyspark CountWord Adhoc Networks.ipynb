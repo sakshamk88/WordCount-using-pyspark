{
 "cells": [
  {
   "cell_type": "markdown",
   "metadata": {},
   "source": [
    "### Importing neccessary libraries"
   ]
  },
  {
   "cell_type": "code",
   "execution_count": 91,
   "metadata": {},
   "outputs": [],
   "source": [
    "from bs4 import BeautifulSoup\n",
    "import requests\n",
    "import urllib\n",
    "from pyspark import SparkContext\n",
    "\n",
    "import matplotlib.pyplot as plt\n",
    "\n",
    "import io\n",
    "import base64"
   ]
  },
  {
   "cell_type": "markdown",
   "metadata": {},
   "source": [
    "### Defining the urls"
   ]
  },
  {
   "cell_type": "code",
   "execution_count": 5,
   "metadata": {},
   "outputs": [],
   "source": [
    "root_url = 'http://en.wikipedia.org'\n",
    "page_url = root_url + '/wiki/Machine_learning#History_and_relationships_to_other_fields'"
   ]
  },
  {
   "cell_type": "code",
   "execution_count": 6,
   "metadata": {},
   "outputs": [],
   "source": [
    "#Accessing the webpage \n",
    "r = requests.get(page_url)"
   ]
  },
  {
   "cell_type": "code",
   "execution_count": 7,
   "metadata": {},
   "outputs": [],
   "source": [
    "#saving the contents of webpage in a variable\n",
    "soup = BeautifulSoup(r.content,'lxml')"
   ]
  },
  {
   "cell_type": "markdown",
   "metadata": {},
   "source": [
    "### Finding all the paragraphs bu identifying the 'p' tag in html"
   ]
  },
  {
   "cell_type": "code",
   "execution_count": 75,
   "metadata": {},
   "outputs": [],
   "source": [
    "data = soup.find_all('p')"
   ]
  },
  {
   "cell_type": "code",
   "execution_count": 76,
   "metadata": {
    "scrolled": false
   },
   "outputs": [],
   "source": [
    "#Getting the introduction paragraphs from the contents\n",
    "intro = []\n",
    "for i in data[3:5]:\n",
    "    intro.append(i.getText())"
   ]
  },
  {
   "cell_type": "code",
   "execution_count": 77,
   "metadata": {},
   "outputs": [
    {
     "data": {
      "text/plain": [
       "[\"Machine learning tasks are classified into several broad categories. In supervised learning, the algorithm builds a mathematical model from a set of data that contains both the inputs and the desired outputs. For example, if the task were determining whether an image contained a certain object, the training data for a supervised learning algorithm would include images with and without that object (the input), and each image would have a label (the output) designating whether it contained the object. In special cases, the input may be only partially available, or restricted to special feedback.[clarification needed] Semi-supervised learning algorithms develop mathematical models from incomplete training data, where a portion of the sample input doesn't have labels.\\n\",\n",
       " 'Classification algorithms and regression algorithms are types of supervised learning. Classification algorithms are used when the outputs are restricted to a limited set of values. For a classification algorithm that filters emails, the input would be an incoming email, and the output would be the name of the folder in which to file the email. For an algorithm that identifies spam emails, the output would be the prediction of either \"spam\" or \"not spam\", represented by the Boolean values true and false. Regression algorithms are named for their continuous outputs, meaning they may have any value within a range. Examples of a continuous value are the temperature, length, or price of an object.\\n']"
      ]
     },
     "execution_count": 77,
     "metadata": {},
     "output_type": "execute_result"
    }
   ],
   "source": [
    "#Checking the content\n",
    "intro"
   ]
  },
  {
   "cell_type": "markdown",
   "metadata": {},
   "source": [
    "### We now use pyspark to count the frequencies "
   ]
  },
  {
   "cell_type": "code",
   "execution_count": 88,
   "metadata": {},
   "outputs": [],
   "source": [
    "from pyspark import SparkContext\n",
    "\n",
    "sc = SparkContext(appName=\"WordCountTest\")\n",
    "lines = sc.textFile(data.txt)\n",
    "words = lines.flatMap(lambda x: x.split(\" \"))\n",
    "word_count = words.map(lambda x: (x,1)).reduceByKey(lambda x, y: x+y)\n",
    "output = word_count.collect()\n",
    "\n",
    "for pair in output:\n",
    "    print(pair)\n"
   ]
  },
  {
   "cell_type": "code",
   "execution_count": 89,
   "metadata": {},
   "outputs": [
    {
     "data": {
      "text/plain": [
       "[('Classification', 2),\n",
       " ('algorithms', 4),\n",
       " ('and', 3),\n",
       " ('regression', 1),\n",
       " ('are', 5),\n",
       " ('types', 1),\n",
       " ('of', 6),\n",
       " ('supervised', 1),\n",
       " ('learning.', 1),\n",
       " ('used', 1),\n",
       " ('when', 1),\n",
       " ('the', 10),\n",
       " ('outputs', 1),\n",
       " ('restricted', 1),\n",
       " ('to', 2),\n",
       " ('a', 4),\n",
       " ('limited', 1),\n",
       " ('set', 1),\n",
       " ('values.', 1),\n",
       " ('For', 2),\n",
       " ('classification', 1),\n",
       " ('algorithm', 2),\n",
       " ('that', 2),\n",
       " ('filters', 1),\n",
       " ('emails,', 2),\n",
       " ('input', 1),\n",
       " ('would', 3),\n",
       " ('be', 3),\n",
       " ('an', 3),\n",
       " ('incoming', 1),\n",
       " ('email,', 1),\n",
       " ('output', 2),\n",
       " ('name', 1),\n",
       " ('folder', 1),\n",
       " ('in', 1),\n",
       " ('which', 1),\n",
       " ('file', 1),\n",
       " ('email.', 1),\n",
       " ('identifies', 1),\n",
       " ('spam', 1),\n",
       " ('prediction', 1),\n",
       " ('either', 1),\n",
       " ('\"spam\"', 1),\n",
       " ('or', 2),\n",
       " ('\"not', 1),\n",
       " ('spam\",', 1),\n",
       " ('represented', 1),\n",
       " ('by', 1),\n",
       " ('Boolean', 1),\n",
       " ('values', 1),\n",
       " ('true', 1),\n",
       " ('false.', 1),\n",
       " ('Regression', 1),\n",
       " ('named', 1),\n",
       " ('for', 1),\n",
       " ('their', 1),\n",
       " ('continuous', 2),\n",
       " ('outputs,', 1),\n",
       " ('meaning', 1),\n",
       " ('they', 1),\n",
       " ('may', 1),\n",
       " ('have', 1),\n",
       " ('any', 1),\n",
       " ('value', 2),\n",
       " ('within', 1),\n",
       " ('range.', 1),\n",
       " ('Examples', 1),\n",
       " ('temperature,', 1),\n",
       " ('length,', 1),\n",
       " ('price', 1),\n",
       " ('object.', 1)]"
      ]
     },
     "execution_count": 89,
     "metadata": {},
     "output_type": "execute_result"
    }
   ],
   "source": [
    "lst"
   ]
  },
  {
   "cell_type": "code",
   "execution_count": null,
   "metadata": {},
   "outputs": [],
   "source": [
    "#Getting the Counts and words in different lists\n",
    "lst1,lst2 = list(counts.keys()),list(counts.values())\n",
    "for i in lst1:\n",
    "    i = str(i)"
   ]
  },
  {
   "cell_type": "markdown",
   "metadata": {},
   "source": [
    "### Plotting the figure and sving a screenshot\n"
   ]
  },
  {
   "cell_type": "code",
   "execution_count": 119,
   "metadata": {},
   "outputs": [
    {
     "data": {
      "image/png": "[encoded data removed]",
      "text/plain": [
       "<Figure size 1440x864 with 1 Axes>"
      ]
     },
     "metadata": {},
     "output_type": "display_data"
    }
   ],
   "source": [
    "fig = plt.figure(figsize=(20,12))\n",
    "graph=sns.barplot(lst1,lst2)\n",
    "\n",
    "plt.xlabel(\"Words\")\n",
    "plt.ylabel(\"Count\")\n",
    "plt.title(\"Graphical Representation\")\n",
    "graph.set_xticklabels(graph.get_xticklabels(), rotation=90)\n",
    "\n",
    "fig.savefig(\"Desktop/graph.png\")\n",
    "plt.show()"
   ]
  },
  {
   "cell_type": "code",
   "execution_count": null,
   "metadata": {},
   "outputs": [],
   "source": []
  },
  {
   "cell_type": "code",
   "execution_count": null,
   "metadata": {},
   "outputs": [],
   "source": []
  },
  {
   "cell_type": "code",
   "execution_count": null,
   "metadata": {},
   "outputs": [],
   "source": []
  },
  {
   "cell_type": "code",
   "execution_count": 10,
   "metadata": {},
   "outputs": [],
   "source": [
    "\n",
    "   "
   ]
  },
  {
   "cell_type": "code",
   "execution_count": null,
   "metadata": {},
   "outputs": [],
   "source": []
  },
  {
   "cell_type": "code",
   "execution_count": null,
   "metadata": {},
   "outputs": [],
   "source": []
  },
  {
   "cell_type": "code",
   "execution_count": null,
   "metadata": {},
   "outputs": [],
   "source": []
  },
  {
   "cell_type": "code",
   "execution_count": null,
   "metadata": {},
   "outputs": [],
   "source": []
  },
  {
   "cell_type": "code",
   "execution_count": null,
   "metadata": {},
   "outputs": [],
   "source": []
  },
  {
   "cell_type": "code",
   "execution_count": null,
   "metadata": {},
   "outputs": [],
   "source": []
  },
  {
   "cell_type": "code",
   "execution_count": null,
   "metadata": {},
   "outputs": [],
   "source": [
    "\n"
   ]
  },
  {
   "cell_type": "code",
   "execution_count": null,
   "metadata": {},
   "outputs": [],
   "source": []
  },
  {
   "cell_type": "code",
   "execution_count": null,
   "metadata": {},
   "outputs": [],
   "source": []
  },
  {
   "cell_type": "code",
   "execution_count": null,
   "metadata": {},
   "outputs": [],
   "source": []
  },
  {
   "cell_type": "code",
   "execution_count": null,
   "metadata": {},
   "outputs": [],
   "source": []
  },
  {
   "cell_type": "code",
   "execution_count": null,
   "metadata": {},
   "outputs": [],
   "source": []
  },
  {
   "cell_type": "code",
   "execution_count": null,
   "metadata": {},
   "outputs": [],
   "source": []
  }
 ],
 "metadata": {
  "kernelspec": {
   "display_name": "Python 3",
   "language": "python",
   "name": "python3"
  },
  "language_info": {
   "codemirror_mode": {
    "name": "ipython",
    "version": 3
   },
   "file_extension": ".py",
   "mimetype": "text/x-python",
   "name": "python",
   "nbconvert_exporter": "python",
   "pygments_lexer": "ipython3",
   "version": "3.6.5"
  }
 },
 "nbformat": 4,
 "nbformat_minor": 2
}
